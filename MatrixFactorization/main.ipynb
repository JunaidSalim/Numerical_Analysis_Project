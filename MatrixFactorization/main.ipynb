{
 "cells": [
  {
   "cell_type": "markdown",
   "metadata": {
    "id": "T_cXhlpw5UIc"
   },
   "source": [
    "## Standard Gaussian Elimination"
   ]
  },
  {
   "cell_type": "code",
   "execution_count": null,
   "metadata": {
    "id": "ebg3gwRm2AkR"
   },
   "outputs": [],
   "source": [
    "\n",
    "# Gaussian Elimination Without Pivoting\n",
    "\n",
    "import numpy as np\n",
    "\n",
    "def gaussian_elimination(A, b):\n",
    "    n = len(b)\n",
    "    A = A.astype(float)\n",
    "    b = b.astype(float)\n",
    "\n",
    "    # Forward Elimination\n",
    "    for k in range(n - 1):\n",
    "        for i in range(k + 1, n):\n",
    "            factor = A[i][k] / A[k][k]\n",
    "            A[i, k:] -= factor * A[k, k:]\n",
    "            b[i] -= factor * b[k]\n",
    "\n",
    "    # Back Substitution\n",
    "    x = np.zeros(n)\n",
    "    for i in range(n - 1, -1, -1):\n",
    "        x[i] = (b[i] - np.dot(A[i, i+1:], x[i+1:])) / A[i, i]\n",
    "\n",
    "    return x\n"
   ]
  },
  {
   "cell_type": "markdown",
   "metadata": {
    "id": "lVNuM_zy5Ywp"
   },
   "source": [
    "### Example 1"
   ]
  },
  {
   "cell_type": "code",
   "execution_count": null,
   "metadata": {
    "colab": {
     "base_uri": "https://localhost:8080/"
    },
    "id": "g2k03M9p5bAb",
    "outputId": "a5fb91f1-70bc-4fbc-da8e-2847f3a45078"
   },
   "outputs": [
    {
     "name": "stdout",
     "output_type": "stream",
     "text": [
      "A: [[ 2  3  1]\n",
      " [ 4  7  5]\n",
      " [ 6 18 10]]\n",
      "\n",
      "B: [1 3 6]\n",
      "\n",
      "Solution: [0.2 0.1 0.3]\n"
     ]
    }
   ],
   "source": [
    "A1 = np.array([[2, 3, 1],\n",
    "               [4, 7, 5],\n",
    "               [6, 18, 10]])\n",
    "b1 = np.array([1, 3, 6])\n",
    "x1 = gaussian_elimination(A1, b1)\n",
    "print(\"A:\", A1)\n",
    "print(\"\\nB:\", b1)\n",
    "print(\"\\nSolution:\", x1)\n"
   ]
  },
  {
   "cell_type": "markdown",
   "metadata": {
    "id": "wUSioxBS5bl8"
   },
   "source": [
    "### Example 2"
   ]
  },
  {
   "cell_type": "code",
   "execution_count": null,
   "metadata": {
    "colab": {
     "base_uri": "https://localhost:8080/"
    },
    "id": "NuRyFeUd5dsr",
    "outputId": "6a98e844-dde4-45a0-9499-c3ecc0b49e7e"
   },
   "outputs": [
    {
     "name": "stdout",
     "output_type": "stream",
     "text": [
      "A: [[10  2 -1]\n",
      " [-3 -6  2]\n",
      " [ 1  1  5]]\n",
      "\n",
      "B: [ 27.  -61.5 -21.5]\n",
      "\n",
      "Solution: [ 0.5  8.  -6. ]\n"
     ]
    }
   ],
   "source": [
    "A2 = np.array([[10, 2, -1],\n",
    "               [-3, -6, 2],\n",
    "               [1, 1, 5]])\n",
    "b2 = np.array([27, -61.5, -21.5])\n",
    "x2 = gaussian_elimination(A2, b2)\n",
    "print(\"A:\", A2)\n",
    "print(\"\\nB:\", b2)\n",
    "print(\"\\nSolution:\", x2)\n"
   ]
  },
  {
   "cell_type": "markdown",
   "metadata": {
    "id": "nKJP5byt5eRQ"
   },
   "source": [
    "### Example 3"
   ]
  },
  {
   "cell_type": "code",
   "execution_count": null,
   "metadata": {
    "colab": {
     "base_uri": "https://localhost:8080/"
    },
    "id": "XCBi0e3C5gMe",
    "outputId": "fbb73d4e-fc5a-4414-a50c-b9ebbb8a333e"
   },
   "outputs": [
    {
     "name": "stdout",
     "output_type": "stream",
     "text": [
      "A: [[1 1 1]\n",
      " [0 2 5]\n",
      " [0 0 3]]\n",
      "\n",
      "B: [ 6 -4  3]\n",
      "\n",
      "Solution: [ 9.5 -4.5  1. ]\n"
     ]
    }
   ],
   "source": [
    "A3 = np.array([[1, 1, 1],\n",
    "               [0, 2, 5],\n",
    "               [0, 0, 3]])\n",
    "b3 = np.array([6, -4, 3])\n",
    "x3 = gaussian_elimination(A3, b3)\n",
    "print(\"A:\", A3)\n",
    "print(\"\\nB:\", b3)\n",
    "print(\"\\nSolution:\", x3)\n"
   ]
  },
  {
   "cell_type": "markdown",
   "metadata": {
    "id": "_gZtHM_D5jAT"
   },
   "source": [
    "## Gaussian Elimination with Partial Pivoting"
   ]
  },
  {
   "cell_type": "code",
   "execution_count": null,
   "metadata": {
    "id": "u_wzOIfi5lTk"
   },
   "outputs": [],
   "source": [
    "\n",
    "# Gaussian Elimination with Partial Pivoting\n",
    "\n",
    "import numpy as np\n",
    "\n",
    "def gaussian_elimination_partial_pivoting(A, b):\n",
    "    n = len(b)\n",
    "    A = A.astype(float)\n",
    "    b = b.astype(float)\n",
    "\n",
    "    for k in range(n - 1):\n",
    "        # Partial Pivoting\n",
    "        max_row = np.argmax(np.abs(A[k:, k])) + k\n",
    "        if max_row != k:\n",
    "            A[[k, max_row]] = A[[max_row, k]]\n",
    "            b[[k, max_row]] = b[[max_row, k]]\n",
    "\n",
    "        # Elimination\n",
    "        for i in range(k + 1, n):\n",
    "            factor = A[i][k] / A[k][k]\n",
    "            A[i, k:] -= factor * A[k, k:]\n",
    "            b[i] -= factor * b[k]\n",
    "\n",
    "    # Back Substitution\n",
    "    x = np.zeros(n)\n",
    "    for i in range(n - 1, -1, -1):\n",
    "        x[i] = (b[i] - np.dot(A[i, i+1:], x[i+1:])) / A[i, i]\n",
    "\n",
    "    return x"
   ]
  },
  {
   "cell_type": "markdown",
   "metadata": {
    "id": "PXxA__NS-2ws"
   },
   "source": [
    "### Example 1"
   ]
  },
  {
   "cell_type": "code",
   "execution_count": null,
   "metadata": {
    "colab": {
     "base_uri": "https://localhost:8080/"
    },
    "id": "yXlm4uaW-2Es",
    "outputId": "a945ac32-b6e1-46df-a470-81438594b858"
   },
   "outputs": [
    {
     "name": "stdout",
     "output_type": "stream",
     "text": [
      "A =\n",
      " [[ 2  3  1]\n",
      " [ 4  7  5]\n",
      " [ 6 18 10]]\n",
      "\n",
      "b = [1 3 6]\n",
      "\n",
      "Solution x = [0.2 0.1 0.3]\n",
      "\n"
     ]
    }
   ],
   "source": [
    "A1 = np.array([[2, 3, 1],\n",
    "               [4, 7, 5],\n",
    "               [6, 18, 10]])\n",
    "b1 = np.array([1, 3, 6])\n",
    "x1 = gaussian_elimination_partial_pivoting(A1, b1)\n",
    "\n",
    "print(\"A =\\n\", A1)\n",
    "print(\"\\nb =\", b1)\n",
    "print(\"\\nSolution x =\", x1)\n",
    "print()\n"
   ]
  },
  {
   "cell_type": "markdown",
   "metadata": {
    "id": "b96iIMOa-6Bt"
   },
   "source": [
    "### Example 2"
   ]
  },
  {
   "cell_type": "code",
   "execution_count": null,
   "metadata": {
    "colab": {
     "base_uri": "https://localhost:8080/"
    },
    "id": "zM3QwMQm-7_H",
    "outputId": "b1942ad1-f49c-41f6-a9d5-aac7a36f62d4"
   },
   "outputs": [
    {
     "name": "stdout",
     "output_type": "stream",
     "text": [
      "A: [[10  2 -1]\n",
      " [-3 -6  2]\n",
      " [ 1  1  5]]\n",
      "\n",
      "B: [ 27.  -61.5 -21.5]\n",
      "\n",
      "Solution: [ 0.5  8.  -6. ]\n"
     ]
    }
   ],
   "source": [
    "A2 = np.array([[10, 2, -1],\n",
    "               [-3, -6, 2],\n",
    "               [1, 1, 5]])\n",
    "b2 = np.array([27, -61.5, -21.5])\n",
    "x2 = gaussian_elimination_partial_pivoting(A2, b2)\n",
    "print(\"A:\", A2)\n",
    "print(\"\\nB:\", b2)\n",
    "print(\"\\nSolution:\", x2)\n"
   ]
  },
  {
   "cell_type": "markdown",
   "metadata": {
    "id": "p6mLzHpW-8Vb"
   },
   "source": [
    "### Example 3"
   ]
  },
  {
   "cell_type": "code",
   "execution_count": null,
   "metadata": {
    "colab": {
     "base_uri": "https://localhost:8080/"
    },
    "id": "i3yBp9HJ--D_",
    "outputId": "19a92311-56ba-4fcf-fd48-e97c189d21b0"
   },
   "outputs": [
    {
     "name": "stdout",
     "output_type": "stream",
     "text": [
      "A: [[1 1 1]\n",
      " [0 2 5]\n",
      " [0 0 3]]\n",
      "\n",
      "B: [ 6 -4  3]\n",
      "\n",
      "Solution: [ 9.5 -4.5  1. ]\n"
     ]
    }
   ],
   "source": [
    "A3 = np.array([[1, 1, 1],\n",
    "               [0, 2, 5],\n",
    "               [0, 0, 3]])\n",
    "b3 = np.array([6, -4, 3])\n",
    "x3 = gaussian_elimination_partial_pivoting(A3, b3)\n",
    "print(\"A:\", A3)\n",
    "print(\"\\nB:\", b3)\n",
    "print(\"\\nSolution:\", x3)\n"
   ]
  },
  {
   "cell_type": "markdown",
   "metadata": {
    "id": "S-uXslEc5nJn"
   },
   "source": [
    "## Gaussian Elimination with Complete Pivoting"
   ]
  },
  {
   "cell_type": "code",
   "execution_count": null,
   "metadata": {
    "id": "PWg-nT8F5oyR"
   },
   "outputs": [],
   "source": [
    "\n",
    "# Gaussian Elimination with Complete Pivoting\n",
    "\n",
    "import numpy as np\n",
    "\n",
    "def gaussian_elimination_complete_pivoting(A, b):\n",
    "    n = len(b)\n",
    "    A = A.astype(float)\n",
    "    b = b.astype(float)\n",
    "    P = np.arange(n)\n",
    "\n",
    "    for k in range(n - 1):\n",
    "        # Complete Pivoting\n",
    "        sub_matrix = np.abs(A[k:, k:])\n",
    "        i_max, j_max = np.unravel_index(np.argmax(sub_matrix, axis=None), sub_matrix.shape)\n",
    "        i_max += k\n",
    "        j_max += k\n",
    "\n",
    "        if i_max != k:\n",
    "            A[[k, i_max]] = A[[i_max, k]]\n",
    "            b[[k, i_max]] = b[[i_max, k]]\n",
    "        if j_max != k:\n",
    "            A[:, [k, j_max]] = A[:, [j_max, k]]\n",
    "            P[[k, j_max]] = P[[j_max, k]]\n",
    "\n",
    "        for i in range(k + 1, n):\n",
    "            factor = A[i][k] / A[k][k]\n",
    "            A[i, k:] -= factor * A[k, k:]\n",
    "            b[i] -= factor * b[k]\n",
    "\n",
    "    # Back Substitution\n",
    "    x = np.zeros(n)\n",
    "    for i in range(n - 1, -1, -1):\n",
    "        x[i] = (b[i] - np.dot(A[i, i+1:], x[i+1:])) / A[i, i]\n",
    "\n",
    "    # Reorder x according to original column order\n",
    "    x_ordered = np.zeros(n)\n",
    "    for i in range(n):\n",
    "        x_ordered[P[i]] = x[i]\n",
    "    return x_ordered\n"
   ]
  },
  {
   "cell_type": "markdown",
   "metadata": {
    "id": "jN14uv77_5IC"
   },
   "source": [
    "### Example 1"
   ]
  },
  {
   "cell_type": "code",
   "execution_count": null,
   "metadata": {
    "colab": {
     "base_uri": "https://localhost:8080/"
    },
    "id": "_8eaLa4b_wf1",
    "outputId": "04fea551-78db-40b5-f46c-f28a3f409424"
   },
   "outputs": [
    {
     "name": "stdout",
     "output_type": "stream",
     "text": [
      "A: [[ 2  3  1]\n",
      " [ 4  7  5]\n",
      " [ 6 18 10]]\n",
      "\n",
      "B: [1 3 6]\n",
      "\n",
      "Solution: [0.2 0.1 0.3]\n"
     ]
    }
   ],
   "source": [
    "A1 = np.array([[2, 3, 1],\n",
    "               [4, 7, 5],\n",
    "               [6, 18, 10]])\n",
    "b1 = np.array([1, 3, 6])\n",
    "x1 = gaussian_elimination_complete_pivoting(A1, b1)\n",
    "print(\"A:\", A1)\n",
    "print(\"\\nB:\", b1)\n",
    "print(\"\\nSolution:\", x1)\n"
   ]
  },
  {
   "cell_type": "markdown",
   "metadata": {
    "id": "8zaJPnwI_7Sw"
   },
   "source": [
    "### Example 2"
   ]
  },
  {
   "cell_type": "code",
   "execution_count": null,
   "metadata": {
    "colab": {
     "base_uri": "https://localhost:8080/"
    },
    "id": "UCUPeVYZ_yLD",
    "outputId": "96695341-28cb-4334-e33f-93484762de4a"
   },
   "outputs": [
    {
     "name": "stdout",
     "output_type": "stream",
     "text": [
      "A: [[10  2 -1]\n",
      " [-3 -6  2]\n",
      " [ 1  1  5]]\n",
      "\n",
      "B: [ 27.  -61.5 -21.5]\n",
      "\n",
      "Solution: [ 0.5  8.  -6. ]\n"
     ]
    }
   ],
   "source": [
    "A2 = np.array([[10, 2, -1],\n",
    "               [-3, -6, 2],\n",
    "               [1, 1, 5]])\n",
    "b2 = np.array([27, -61.5, -21.5])\n",
    "x2 = gaussian_elimination_complete_pivoting(A2, b2)\n",
    "print(\"A:\", A2)\n",
    "print(\"\\nB:\", b2)\n",
    "print(\"\\nSolution:\", x2)\n"
   ]
  },
  {
   "cell_type": "markdown",
   "metadata": {
    "id": "ci6fu8evAAtr"
   },
   "source": [
    "### Example 3"
   ]
  },
  {
   "cell_type": "code",
   "execution_count": null,
   "metadata": {
    "colab": {
     "base_uri": "https://localhost:8080/"
    },
    "id": "RObViJnS_znw",
    "outputId": "2ce88336-1f90-4df6-d55f-7be8159f5639"
   },
   "outputs": [
    {
     "name": "stdout",
     "output_type": "stream",
     "text": [
      "A: [[1 1 1]\n",
      " [0 2 5]\n",
      " [0 0 3]]\n",
      "\n",
      "B: [ 6 -4  3]\n",
      "\n",
      "Solution: [ 9.5 -4.5  1. ]\n"
     ]
    }
   ],
   "source": [
    "A3 = np.array([[1, 1, 1],\n",
    "               [0, 2, 5],\n",
    "               [0, 0, 3]])\n",
    "b3 = np.array([6, -4, 3])\n",
    "x3 = gaussian_elimination_complete_pivoting(A3, b3)\n",
    "print(\"A:\", A3)\n",
    "print(\"\\nB:\", b3)\n",
    "print(\"\\nSolution:\", x3)\n"
   ]
  },
  {
   "cell_type": "markdown",
   "metadata": {
    "id": "ESQcHTpv5rRi"
   },
   "source": [
    "## Scaled Partial Pivoting"
   ]
  },
  {
   "cell_type": "code",
   "execution_count": null,
   "metadata": {
    "id": "jHg4DWGQ5r9m"
   },
   "outputs": [],
   "source": [
    "\n",
    "# Gaussian Elimination with Scaled Partial Pivoting\n",
    "\n",
    "import numpy as np\n",
    "\n",
    "def gaussian_elimination_scaled_partial_pivoting(A, b):\n",
    "    n = len(b)\n",
    "    A = A.astype(float)\n",
    "    b = b.astype(float)\n",
    "\n",
    "    scale = np.max(np.abs(A), axis=1)\n",
    "    for k in range(n - 1):\n",
    "        # Scaled Partial Pivoting\n",
    "        ratios = np.abs(A[k:, k]) / scale[k:]\n",
    "        max_row = np.argmax(ratios) + k\n",
    "        if max_row != k:\n",
    "            A[[k, max_row]] = A[[max_row, k]]\n",
    "            b[[k, max_row]] = b[[max_row, k]]\n",
    "            scale[[k, max_row]] = scale[[max_row, k]]\n",
    "\n",
    "        for i in range(k + 1, n):\n",
    "            factor = A[i][k] / A[k][k]\n",
    "            A[i, k:] -= factor * A[k, k:]\n",
    "            b[i] -= factor * b[k]\n",
    "\n",
    "    # Back Substitution\n",
    "    x = np.zeros(n)\n",
    "    for i in range(n - 1, -1, -1):\n",
    "        x[i] = (b[i] - np.dot(A[i, i+1:], x[i+1:])) / A[i, i]\n",
    "\n",
    "    return x"
   ]
  },
  {
   "cell_type": "markdown",
   "metadata": {
    "id": "Ho3G1dpqAQLq"
   },
   "source": [
    "### Example 1"
   ]
  },
  {
   "cell_type": "code",
   "execution_count": null,
   "metadata": {
    "colab": {
     "base_uri": "https://localhost:8080/"
    },
    "id": "f8SqzcmxAIYM",
    "outputId": "a8d06833-f5c2-4ef9-8ad9-04760f614dd0"
   },
   "outputs": [
    {
     "name": "stdout",
     "output_type": "stream",
     "text": [
      "A: [[ 2  3  1]\n",
      " [ 4  7  5]\n",
      " [ 6 18 10]]\n",
      "\n",
      "B: [1 3 6]\n",
      "\n",
      "Solution: [0.2 0.1 0.3]\n"
     ]
    }
   ],
   "source": [
    "A1 = np.array([[2, 3, 1],\n",
    "               [4, 7, 5],\n",
    "               [6, 18, 10]])\n",
    "b1 = np.array([1, 3, 6])\n",
    "x1 = gaussian_elimination_scaled_partial_pivoting(A1, b1)\n",
    "print(\"A:\", A1)\n",
    "print(\"\\nB:\", b1)\n",
    "print(\"\\nSolution:\", x1)\n"
   ]
  },
  {
   "cell_type": "markdown",
   "metadata": {
    "id": "BVYzKaXVASna"
   },
   "source": [
    "### Example 2"
   ]
  },
  {
   "cell_type": "code",
   "execution_count": null,
   "metadata": {
    "colab": {
     "base_uri": "https://localhost:8080/"
    },
    "id": "bFAZxUzoAU6-",
    "outputId": "a56d8d74-1bb4-4f09-e9c3-0f2d197321c5"
   },
   "outputs": [
    {
     "name": "stdout",
     "output_type": "stream",
     "text": [
      "A: [[10  2 -1]\n",
      " [-3 -6  2]\n",
      " [ 1  1  5]]\n",
      "\n",
      "B: [ 27.  -61.5 -21.5]\n",
      "\n",
      "Solution: [ 0.5  8.  -6. ]\n"
     ]
    }
   ],
   "source": [
    "A2 = np.array([[10, 2, -1],\n",
    "               [-3, -6, 2],\n",
    "               [1, 1, 5]])\n",
    "b2 = np.array([27, -61.5, -21.5])\n",
    "x2 = gaussian_elimination_scaled_partial_pivoting(A2, b2)\n",
    "print(\"A:\", A2)\n",
    "print(\"\\nB:\", b2)\n",
    "print(\"\\nSolution:\", x2)\n"
   ]
  },
  {
   "cell_type": "markdown",
   "metadata": {
    "id": "_YzeNUW5AVNu"
   },
   "source": [
    "### Example 3"
   ]
  },
  {
   "cell_type": "code",
   "execution_count": null,
   "metadata": {
    "colab": {
     "base_uri": "https://localhost:8080/"
    },
    "id": "8aBwHCRuAYO2",
    "outputId": "a9fef4f7-aefa-4c32-da8e-0521e9480250"
   },
   "outputs": [
    {
     "name": "stdout",
     "output_type": "stream",
     "text": [
      "A: [[1 1 1]\n",
      " [0 2 5]\n",
      " [0 0 3]]\n",
      "\n",
      "B: [ 6 -4  3]\n",
      "\n",
      "Solution: [ 9.5 -4.5  1. ]\n"
     ]
    }
   ],
   "source": [
    "A3 = np.array([[1, 1, 1],\n",
    "               [0, 2, 5],\n",
    "               [0, 0, 3]])\n",
    "b3 = np.array([6, -4, 3])\n",
    "x3 = gaussian_elimination_scaled_partial_pivoting(A3, b3)\n",
    "print(\"A:\", A3)\n",
    "print(\"\\nB:\", b3)\n",
    "print(\"\\nSolution:\", x3)\n"
   ]
  },
  {
   "cell_type": "markdown",
   "metadata": {
    "id": "co2B_0wZCc4j"
   },
   "source": [
    "# Factorisation"
   ]
  },
  {
   "cell_type": "markdown",
   "metadata": {
    "id": "0HiP9NuA53Bw"
   },
   "source": [
    "## LU Decomposition"
   ]
  },
  {
   "cell_type": "code",
   "execution_count": null,
   "metadata": {
    "id": "lMBROyNH5209"
   },
   "outputs": [],
   "source": [
    "def lu_decomposition(A):\n",
    "    n = len(A)\n",
    "    L = [[0.0] * n for _ in range(n)]\n",
    "    U = [[0.0] * n for _ in range(n)]\n",
    "\n",
    "    for i in range(n):\n",
    "        for k in range(i, n):\n",
    "            sum_ = sum(L[i][j] * U[j][k] for j in range(i))\n",
    "            U[i][k] = A[i][k] - sum_\n",
    "\n",
    "        for k in range(i, n):\n",
    "            if i == k:\n",
    "                L[i][i] = 1.0\n",
    "            else:\n",
    "                sum_ = sum(L[k][j] * U[j][i] for j in range(i))\n",
    "                L[k][i] = (A[k][i] - sum_) / U[i][i]\n",
    "\n",
    "    return L, U\n",
    "\n",
    "def print_matrix(M, name):\n",
    "    print(f\"{name}:\")\n",
    "    for row in M:\n",
    "        print([\"{0:8.2f}\".format(val) for val in row])\n",
    "    print()\n"
   ]
  },
  {
   "cell_type": "markdown",
   "metadata": {
    "id": "gWoFtv9U7Zmz"
   },
   "source": [
    "### Example 1"
   ]
  },
  {
   "cell_type": "code",
   "execution_count": null,
   "metadata": {
    "colab": {
     "base_uri": "https://localhost:8080/"
    },
    "id": "p700_oAr6Mbg",
    "outputId": "94c6a7a5-1386-4e1c-a3a3-3af8b8e2bbe4"
   },
   "outputs": [
    {
     "name": "stdout",
     "output_type": "stream",
     "text": [
      "L1:\n",
      "['    1.00', '    0.00', '    0.00']\n",
      "['   -2.00', '    1.00', '    0.00']\n",
      "['   -2.00', '   -1.00', '    1.00']\n",
      "\n",
      "U1:\n",
      "['    2.00', '   -1.00', '   -2.00']\n",
      "['    0.00', '    4.00', '   -1.00']\n",
      "['    0.00', '    0.00', '    3.00']\n",
      "\n"
     ]
    }
   ],
   "source": [
    "A1 = [\n",
    "    [2, -1, -2],\n",
    "    [-4, 6, 3],\n",
    "    [-4, -2, 8]\n",
    "]\n",
    "L1, U1 = lu_decomposition(A1)\n",
    "print_matrix(L1, \"L1\")\n",
    "print_matrix(U1, \"U1\")\n"
   ]
  },
  {
   "cell_type": "markdown",
   "metadata": {
    "id": "v5CLkb2c7cYG"
   },
   "source": [
    "### Example 2"
   ]
  },
  {
   "cell_type": "code",
   "execution_count": null,
   "metadata": {
    "colab": {
     "base_uri": "https://localhost:8080/"
    },
    "id": "sfo-4jr86OIU",
    "outputId": "e1b947d1-57ff-4282-f032-6b1bf0c35011"
   },
   "outputs": [
    {
     "name": "stdout",
     "output_type": "stream",
     "text": [
      "L2:\n",
      "['    1.00', '    0.00', '    0.00']\n",
      "['   -0.10', '    1.00', '    0.00']\n",
      "['    0.20', '   -0.07', '    1.00']\n",
      "\n",
      "U2:\n",
      "['   10.00', '   -1.00', '    2.00']\n",
      "['    0.00', '   10.90', '   -0.80']\n",
      "['    0.00', '    0.00', '    9.54']\n",
      "\n"
     ]
    }
   ],
   "source": [
    "A2 = [\n",
    "    [10, -1, 2],\n",
    "    [-1, 11, -1],\n",
    "    [2, -1, 10]\n",
    "]\n",
    "\n",
    "L2, U2 = lu_decomposition(A2)\n",
    "print_matrix(L2, \"L2\")\n",
    "print_matrix(U2, \"U2\")\n"
   ]
  },
  {
   "cell_type": "markdown",
   "metadata": {
    "id": "FQCcAi8h7eig"
   },
   "source": [
    "### Example 3"
   ]
  },
  {
   "cell_type": "code",
   "execution_count": null,
   "metadata": {
    "colab": {
     "base_uri": "https://localhost:8080/"
    },
    "id": "LHRkVqYL6Ppv",
    "outputId": "d09f1a54-ad33-4f3c-8188-43ad70b08b34"
   },
   "outputs": [
    {
     "name": "stdout",
     "output_type": "stream",
     "text": [
      "L3:\n",
      "['    1.00', '    0.00', '    0.00']\n",
      "['    0.50', '    1.00', '    0.00']\n",
      "['    0.33', '    1.00', '    1.00']\n",
      "\n",
      "U3:\n",
      "['    1.00', '    0.50', '    0.33']\n",
      "['    0.00', '    0.08', '    0.08']\n",
      "['    0.00', '    0.00', '    0.01']\n",
      "\n"
     ]
    }
   ],
   "source": [
    "A3 = [\n",
    "    [1, 1/2, 1/3],\n",
    "    [1/2, 1/3, 1/4],\n",
    "    [1/3, 1/4, 1/5]\n",
    "]\n",
    "L3, U3 = lu_decomposition(A3)\n",
    "print_matrix(L3, \"L3\")\n",
    "print_matrix(U3, \"U3\")"
   ]
  },
  {
   "cell_type": "markdown",
   "metadata": {
    "id": "vKnaPN9CBzSV"
   },
   "source": [
    "## DoLittle"
   ]
  },
  {
   "cell_type": "code",
   "execution_count": null,
   "metadata": {
    "id": "7MIIMDDKB007"
   },
   "outputs": [],
   "source": [
    "def doolittle_lu_decomposition(A):\n",
    "    n = len(A)\n",
    "    L = [[0.0] * n for _ in range(n)]\n",
    "    U = [[0.0] * n for _ in range(n)]\n",
    "\n",
    "    for i in range(n):\n",
    "        # Set diagonal of L to 1\n",
    "        L[i][i] = 1.0\n",
    "\n",
    "        # Compute U row\n",
    "        for j in range(i, n):\n",
    "            U[i][j] = A[i][j] - sum(L[i][k] * U[k][j] for k in range(i))\n",
    "\n",
    "        # Compute L column\n",
    "        for j in range(i+1, n):\n",
    "            if U[i][i] == 0:\n",
    "                raise ZeroDivisionError(\"Division by zero during LU decomposition\")\n",
    "            L[j][i] = (A[j][i] - sum(L[j][k] * U[k][i] for k in range(i))) / U[i][i]\n",
    "\n",
    "    return L, U\n"
   ]
  },
  {
   "cell_type": "markdown",
   "metadata": {
    "id": "AAcd86MiEDrz"
   },
   "source": [
    "### Example 1"
   ]
  },
  {
   "cell_type": "code",
   "execution_count": null,
   "metadata": {
    "colab": {
     "base_uri": "https://localhost:8080/"
    },
    "id": "pbsNX_vbD74e",
    "outputId": "2657ed3a-68a3-4e89-f83d-01476b3627d5"
   },
   "outputs": [
    {
     "name": "stdout",
     "output_type": "stream",
     "text": [
      "L1:\n",
      "['    1.00', '    0.00', '    0.00']\n",
      "['   -2.00', '    1.00', '    0.00']\n",
      "['   -2.00', '   -1.00', '    1.00']\n",
      "\n",
      "U1:\n",
      "['    2.00', '   -1.00', '   -2.00']\n",
      "['    0.00', '    4.00', '   -1.00']\n",
      "['    0.00', '    0.00', '    3.00']\n",
      "\n"
     ]
    }
   ],
   "source": [
    "A1 = [\n",
    "    [2, -1, -2],\n",
    "    [-4, 6, 3],\n",
    "    [-4, -2, 8]\n",
    "]\n",
    "L1, U1 = doolittle_lu_decomposition(A1)\n",
    "print_matrix(L1, \"L1\")\n",
    "print_matrix(U1, \"U1\")"
   ]
  },
  {
   "cell_type": "markdown",
   "metadata": {
    "id": "lUIJda9KG2zw"
   },
   "source": [
    "### Example 2"
   ]
  },
  {
   "cell_type": "code",
   "execution_count": null,
   "metadata": {
    "colab": {
     "base_uri": "https://localhost:8080/"
    },
    "id": "G0jYnbLUEAOG",
    "outputId": "f610429d-51d5-48f7-d40e-5a86a62d5cde"
   },
   "outputs": [
    {
     "name": "stdout",
     "output_type": "stream",
     "text": [
      "L2:\n",
      "['    1.00', '    0.00', '    0.00']\n",
      "['   -0.10', '    1.00', '    0.00']\n",
      "['    0.20', '   -0.07', '    1.00']\n",
      "\n",
      "U2:\n",
      "['   10.00', '   -1.00', '    2.00']\n",
      "['    0.00', '   10.90', '   -0.80']\n",
      "['    0.00', '    0.00', '    9.54']\n",
      "\n"
     ]
    }
   ],
   "source": [
    "A2 = [\n",
    "    [10, -1, 2],\n",
    "    [-1, 11, -1],\n",
    "    [2, -1, 10]\n",
    "]\n",
    "\n",
    "L2, U2 = doolittle_lu_decomposition(A2)\n",
    "print_matrix(L2, \"L2\")\n",
    "print_matrix(U2, \"U2\")\n"
   ]
  },
  {
   "cell_type": "markdown",
   "metadata": {
    "id": "j0ar7JFHG5VB"
   },
   "source": [
    "### Example 3"
   ]
  },
  {
   "cell_type": "code",
   "execution_count": null,
   "metadata": {
    "colab": {
     "base_uri": "https://localhost:8080/"
    },
    "id": "erILkiQBGuDc",
    "outputId": "e564e4d6-3cd9-4d7f-f740-ae489ae9b376"
   },
   "outputs": [
    {
     "name": "stdout",
     "output_type": "stream",
     "text": [
      "L3:\n",
      "['    1.00', '    0.00', '    0.00']\n",
      "['    0.50', '    1.00', '    0.00']\n",
      "['    0.33', '    1.00', '    1.00']\n",
      "\n",
      "U3:\n",
      "['    1.00', '    0.50', '    0.33']\n",
      "['    0.00', '    0.08', '    0.08']\n",
      "['    0.00', '    0.00', '    0.01']\n",
      "\n"
     ]
    }
   ],
   "source": [
    "A3 = [\n",
    "    [1, 1/2, 1/3],\n",
    "    [1/2, 1/3, 1/4],\n",
    "    [1/3, 1/4, 1/5]\n",
    "]\n",
    "L3, U3 = doolittle_lu_decomposition(A3)\n",
    "print_matrix(L3, \"L3\")\n",
    "print_matrix(U3, \"U3\")"
   ]
  },
  {
   "cell_type": "markdown",
   "metadata": {
    "id": "Gykmgm5iHdwa"
   },
   "source": [
    "## Crout's Method"
   ]
  },
  {
   "cell_type": "code",
   "execution_count": null,
   "metadata": {
    "id": "0OpFAMswHkzJ"
   },
   "outputs": [],
   "source": [
    "def crout_decomposition(A):\n",
    "    n = len(A)\n",
    "    L = [[0.0] * n for _ in range(n)]\n",
    "    U = [[0.0] * n for _ in range(n)]\n",
    "\n",
    "    for j in range(n):\n",
    "        U[j][j] = 1.0  # Diagonal of U is 1\n",
    "\n",
    "        for i in range(j, n):\n",
    "            L[i][j] = A[i][j] - sum(L[i][k] * U[k][j] for k in range(j))\n",
    "\n",
    "        for i in range(j+1, n):\n",
    "            if L[j][j] == 0:\n",
    "                raise ZeroDivisionError(\"Zero pivot encountered\")\n",
    "            U[i][j] = (A[j][i] - sum(L[j][k] * U[k][i] for k in range(j))) / L[j][j]\n",
    "\n",
    "    return L, U\n"
   ]
  },
  {
   "cell_type": "markdown",
   "metadata": {
    "id": "CBy9OHsLRA4u"
   },
   "source": [
    "### Example 1"
   ]
  },
  {
   "cell_type": "code",
   "execution_count": null,
   "metadata": {
    "colab": {
     "base_uri": "https://localhost:8080/"
    },
    "id": "65XmpiKRPGou",
    "outputId": "f8fccd7f-59f1-42e2-a07a-df086735c6f4"
   },
   "outputs": [
    {
     "name": "stdout",
     "output_type": "stream",
     "text": [
      "L1:\n",
      "['    2.00', '    0.00', '    0.00']\n",
      "['   -4.00', '    6.00', '    0.00']\n",
      "['   -4.00', '   -2.00', '    8.00']\n",
      "\n",
      "U1:\n",
      "['    1.00', '    0.00', '    0.00']\n",
      "['   -0.50', '    1.00', '    0.00']\n",
      "['   -1.00', '    0.50', '    1.00']\n",
      "\n"
     ]
    }
   ],
   "source": [
    "A1 = [\n",
    "    [2, -1, -2],\n",
    "    [-4, 6, 3],\n",
    "    [-4, -2, 8]\n",
    "]\n",
    "L1, U1 = crout_decomposition(A1)\n",
    "print_matrix(L1, \"L1\")\n",
    "print_matrix(U1, \"U1\")"
   ]
  },
  {
   "cell_type": "markdown",
   "metadata": {
    "id": "iO2BcEiWRDMn"
   },
   "source": [
    "### Example 2"
   ]
  },
  {
   "cell_type": "code",
   "execution_count": null,
   "metadata": {
    "colab": {
     "base_uri": "https://localhost:8080/"
    },
    "id": "I3t1eRrxPLTc",
    "outputId": "f3266ad2-0822-4bb8-cea9-e4f1630f8c2e"
   },
   "outputs": [
    {
     "name": "stdout",
     "output_type": "stream",
     "text": [
      "L2:\n",
      "['   10.00', '    0.00', '    0.00']\n",
      "['   -1.00', '   11.00', '    0.00']\n",
      "['    2.00', '   -1.00', '   10.00']\n",
      "\n",
      "U2:\n",
      "['    1.00', '    0.00', '    0.00']\n",
      "['   -0.10', '    1.00', '    0.00']\n",
      "['    0.20', '   -0.09', '    1.00']\n",
      "\n"
     ]
    }
   ],
   "source": [
    "A2 = [\n",
    "    [10, -1, 2],\n",
    "    [-1, 11, -1],\n",
    "    [2, -1, 10]\n",
    "]\n",
    "\n",
    "L2, U2 = crout_decomposition(A2)\n",
    "print_matrix(L2, \"L2\")\n",
    "print_matrix(U2, \"U2\")\n"
   ]
  },
  {
   "cell_type": "markdown",
   "metadata": {
    "id": "XmYnfKWORFV1"
   },
   "source": [
    "### Example 3"
   ]
  },
  {
   "cell_type": "code",
   "execution_count": null,
   "metadata": {
    "colab": {
     "base_uri": "https://localhost:8080/"
    },
    "id": "VsgUYeCBPNEL",
    "outputId": "44b3ce17-8a50-4cda-f565-3021c5b514c4"
   },
   "outputs": [
    {
     "name": "stdout",
     "output_type": "stream",
     "text": [
      "L3:\n",
      "['    1.00', '    0.00', '    0.00']\n",
      "['    0.50', '    0.33', '    0.00']\n",
      "['    0.33', '    0.25', '    0.20']\n",
      "\n",
      "U3:\n",
      "['    1.00', '    0.00', '    0.00']\n",
      "['    0.50', '    1.00', '    0.00']\n",
      "['    0.33', '    0.75', '    1.00']\n",
      "\n"
     ]
    }
   ],
   "source": [
    "A3 = [\n",
    "    [1, 1/2, 1/3],\n",
    "    [1/2, 1/3, 1/4],\n",
    "    [1/3, 1/4, 1/5]\n",
    "]\n",
    "L3, U3 = crout_decomposition(A3)\n",
    "print_matrix(L3, \"L3\")\n",
    "print_matrix(U3, \"U3\")"
   ]
  },
  {
   "cell_type": "markdown",
   "metadata": {
    "id": "4j9FIq88H7VE"
   },
   "source": [
    "## Cholesky"
   ]
  },
  {
   "cell_type": "code",
   "execution_count": null,
   "metadata": {
    "id": "yxIYyd8lH8Gk"
   },
   "outputs": [],
   "source": [
    "import math\n",
    "\n",
    "def cholesky_decomposition(A):\n",
    "    n = len(A)\n",
    "    L = [[0.0] * n for _ in range(n)]\n",
    "\n",
    "    for i in range(n):\n",
    "        for j in range(i + 1):\n",
    "            sum_k = sum(L[i][k] * L[j][k] for k in range(j))\n",
    "\n",
    "            if i == j:\n",
    "                val = A[i][i] - sum_k\n",
    "                if val <= 0:\n",
    "                    raise ValueError(\"Matrix is not positive-definite\")\n",
    "                L[i][j] = math.sqrt(val)\n",
    "            else:\n",
    "                L[i][j] = (A[i][j] - sum_k) / L[j][j]\n",
    "\n",
    "    return L\n"
   ]
  },
  {
   "cell_type": "markdown",
   "metadata": {
    "id": "CoybXDORQ0Wy"
   },
   "source": [
    "### Example 1"
   ]
  },
  {
   "cell_type": "code",
   "execution_count": null,
   "metadata": {
    "colab": {
     "base_uri": "https://localhost:8080/"
    },
    "id": "vpAvpL9tPdy8",
    "outputId": "c64fe0ce-c9a8-4c99-9efc-83deaeb7bf09"
   },
   "outputs": [
    {
     "name": "stdout",
     "output_type": "stream",
     "text": [
      "L1:\n",
      "['    5.00', '    0.00', '    0.00']\n",
      "['    3.00', '    3.00', '    0.00']\n",
      "['   -1.00', '    1.00', '    3.00']\n",
      "\n"
     ]
    }
   ],
   "source": [
    "A1 = [\n",
    "    [25, 15, -5],\n",
    "    [15, 18,  0],\n",
    "    [-5,  0, 11]\n",
    "]\n",
    "\n",
    "L1 = cholesky_decomposition(A1)\n",
    "print_matrix(L1, \"L1\")"
   ]
  },
  {
   "cell_type": "markdown",
   "metadata": {
    "id": "m4Es76Q2Q26J"
   },
   "source": [
    "### Example 2"
   ]
  },
  {
   "cell_type": "code",
   "execution_count": null,
   "metadata": {
    "colab": {
     "base_uri": "https://localhost:8080/"
    },
    "id": "c_grp5VMPfX1",
    "outputId": "89587a2d-7c24-434c-f845-cb6f499a345f"
   },
   "outputs": [
    {
     "name": "stdout",
     "output_type": "stream",
     "text": [
      "L2:\n",
      "['    2.45', '    0.00', '    0.00']\n",
      "['    6.12', '    4.18', '    0.00']\n",
      "['   22.45', '   20.92', '    6.11']\n",
      "\n"
     ]
    }
   ],
   "source": [
    "A2 = [\n",
    "    [6, 15, 55],\n",
    "    [15, 55, 225],\n",
    "    [55, 225, 979]\n",
    "]\n",
    "\n",
    "L2 = cholesky_decomposition(A2)\n",
    "print_matrix(L2, \"L2\")\n"
   ]
  },
  {
   "cell_type": "markdown",
   "metadata": {
    "id": "mIn1IB52Q5ZK"
   },
   "source": [
    "### Example 3"
   ]
  },
  {
   "cell_type": "code",
   "execution_count": null,
   "metadata": {
    "colab": {
     "base_uri": "https://localhost:8080/"
    },
    "id": "AaVKgsvoPgxw",
    "outputId": "50662dae-9a19-426f-f912-4d92dc4bb73f"
   },
   "outputs": [
    {
     "name": "stdout",
     "output_type": "stream",
     "text": [
      "L3:\n",
      "['    1.00', '    0.00', '    0.00']\n",
      "['    0.50', '    0.29', '    0.00']\n",
      "['    0.33', '    0.29', '    0.07']\n",
      "\n"
     ]
    }
   ],
   "source": [
    "A3 = [\n",
    "    [1, 1/2, 1/3],\n",
    "    [1/2, 1/3, 1/4],\n",
    "    [1/3, 1/4, 1/5]\n",
    "]\n",
    "L3 = cholesky_decomposition(A3)\n",
    "print_matrix(L3, \"L3\")"
   ]
  }
 ],
 "metadata": {
  "colab": {
   "provenance": [],
   "toc_visible": true
  },
  "kernelspec": {
   "display_name": "Python 3 (ipykernel)",
   "language": "python",
   "name": "python3"
  },
  "language_info": {
   "codemirror_mode": {
    "name": "ipython",
    "version": 3
   },
   "file_extension": ".py",
   "mimetype": "text/x-python",
   "name": "python",
   "nbconvert_exporter": "python",
   "pygments_lexer": "ipython3",
   "version": "3.12.3"
  }
 },
 "nbformat": 4,
 "nbformat_minor": 4
}
