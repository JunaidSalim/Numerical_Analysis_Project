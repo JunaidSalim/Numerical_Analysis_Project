{
 "cells": [
  {
   "cell_type": "markdown",
   "metadata": {
    "id": "ZqLOpXJ95FRg"
   },
   "source": [
    "# Gaussian Elimination"
   ]
  },
  {
   "cell_type": "markdown",
   "metadata": {
    "id": "T_cXhlpw5UIc"
   },
   "source": [
    "## Standard Gaussian Elimination"
   ]
  },
  {
   "cell_type": "code",
   "execution_count": null,
   "metadata": {
    "id": "ebg3gwRm2AkR"
   },
   "outputs": [],
   "source": [
    "\n",
    "# Gaussian Elimination Without Pivoting\n",
    "\n",
    "import numpy as np\n",
    "\n",
    "def gaussian_elimination(A, b):\n",
    "    n = len(b)\n",
    "    A = A.astype(float)\n",
    "    b = b.astype(float)\n",
    "\n",
    "    # Forward Elimination\n",
    "    for k in range(n - 1):\n",
    "        for i in range(k + 1, n):\n",
    "            factor = A[i][k] / A[k][k]\n",
    "            A[i, k:] -= factor * A[k, k:]\n",
    "            b[i] -= factor * b[k]\n",
    "\n",
    "    # Back Substitution\n",
    "    x = np.zeros(n)\n",
    "    for i in range(n - 1, -1, -1):\n",
    "        x[i] = (b[i] - np.dot(A[i, i+1:], x[i+1:])) / A[i, i]\n",
    "\n",
    "    return x\n"
   ]
  },
  {
   "cell_type": "markdown",
   "metadata": {
    "id": "lVNuM_zy5Ywp"
   },
   "source": [
    "### Example 1"
   ]
  },
  {
   "cell_type": "code",
   "execution_count": null,
   "metadata": {
    "colab": {
     "base_uri": "https://localhost:8080/"
    },
    "id": "g2k03M9p5bAb",
    "outputId": "a5fb91f1-70bc-4fbc-da8e-2847f3a45078"
   },
   "outputs": [
    {
     "name": "stdout",
     "output_type": "stream",
     "text": [
      "A: [[ 2  3  1]\n",
      " [ 4  7  5]\n",
      " [ 6 18 10]]\n",
      "\n",
      "B: [1 3 6]\n",
      "\n",
      "Solution: [0.2 0.1 0.3]\n"
     ]
    }
   ],
   "source": [
    "A1 = np.array([[2, 3, 1],\n",
    "               [4, 7, 5],\n",
    "               [6, 18, 10]])\n",
    "b1 = np.array([1, 3, 6])\n",
    "x1 = gaussian_elimination(A1, b1)\n",
    "print(\"A:\", A1)\n",
    "print(\"\\nB:\", b1)\n",
    "print(\"\\nSolution:\", x1)\n"
   ]
  },
  {
   "cell_type": "markdown",
   "metadata": {
    "id": "wUSioxBS5bl8"
   },
   "source": [
    "### Example 2"
   ]
  },
  {
   "cell_type": "code",
   "execution_count": null,
   "metadata": {
    "colab": {
     "base_uri": "https://localhost:8080/"
    },
    "id": "NuRyFeUd5dsr",
    "outputId": "6a98e844-dde4-45a0-9499-c3ecc0b49e7e"
   },
   "outputs": [
    {
     "name": "stdout",
     "output_type": "stream",
     "text": [
      "A: [[10  2 -1]\n",
      " [-3 -6  2]\n",
      " [ 1  1  5]]\n",
      "\n",
      "B: [ 27.  -61.5 -21.5]\n",
      "\n",
      "Solution: [ 0.5  8.  -6. ]\n"
     ]
    }
   ],
   "source": [
    "A2 = np.array([[10, 2, -1],\n",
    "               [-3, -6, 2],\n",
    "               [1, 1, 5]])\n",
    "b2 = np.array([27, -61.5, -21.5])\n",
    "x2 = gaussian_elimination(A2, b2)\n",
    "print(\"A:\", A2)\n",
    "print(\"\\nB:\", b2)\n",
    "print(\"\\nSolution:\", x2)\n"
   ]
  },
  {
   "cell_type": "markdown",
   "metadata": {
    "id": "nKJP5byt5eRQ"
   },
   "source": [
    "### Example 3"
   ]
  },
  {
   "cell_type": "code",
   "execution_count": null,
   "metadata": {
    "colab": {
     "base_uri": "https://localhost:8080/"
    },
    "id": "XCBi0e3C5gMe",
    "outputId": "fbb73d4e-fc5a-4414-a50c-b9ebbb8a333e"
   },
   "outputs": [
    {
     "name": "stdout",
     "output_type": "stream",
     "text": [
      "A: [[1 1 1]\n",
      " [0 2 5]\n",
      " [0 0 3]]\n",
      "\n",
      "B: [ 6 -4  3]\n",
      "\n",
      "Solution: [ 9.5 -4.5  1. ]\n"
     ]
    }
   ],
   "source": [
    "A3 = np.array([[1, 1, 1],\n",
    "               [0, 2, 5],\n",
    "               [0, 0, 3]])\n",
    "b3 = np.array([6, -4, 3])\n",
    "x3 = gaussian_elimination(A3, b3)\n",
    "print(\"A:\", A3)\n",
    "print(\"\\nB:\", b3)\n",
    "print(\"\\nSolution:\", x3)\n"
   ]
  },
  {
   "cell_type": "markdown",
   "metadata": {
    "id": "_gZtHM_D5jAT"
   },
   "source": [
    "## Gaussian Elimination with Partial Pivoting"
   ]
  },
  {
   "cell_type": "code",
   "execution_count": null,
   "metadata": {
    "id": "u_wzOIfi5lTk"
   },
   "outputs": [],
   "source": [
    "\n",
    "# Gaussian Elimination with Partial Pivoting\n",
    "\n",
    "import numpy as np\n",
    "\n",
    "def gaussian_elimination_partial_pivoting(A, b):\n",
    "    n = len(b)\n",
    "    A = A.astype(float)\n",
    "    b = b.astype(float)\n",
    "\n",
    "    for k in range(n - 1):\n",
    "        # Partial Pivoting\n",
    "        max_row = np.argmax(np.abs(A[k:, k])) + k\n",
    "        if max_row != k:\n",
    "            A[[k, max_row]] = A[[max_row, k]]\n",
    "            b[[k, max_row]] = b[[max_row, k]]\n",
    "\n",
    "        # Elimination\n",
    "        for i in range(k + 1, n):\n",
    "            factor = A[i][k] / A[k][k]\n",
    "            A[i, k:] -= factor * A[k, k:]\n",
    "            b[i] -= factor * b[k]\n",
    "\n",
    "    # Back Substitution\n",
    "    x = np.zeros(n)\n",
    "    for i in range(n - 1, -1, -1):\n",
    "        x[i] = (b[i] - np.dot(A[i, i+1:], x[i+1:])) / A[i, i]\n",
    "\n",
    "    return x"
   ]
  },
  {
   "cell_type": "markdown",
   "metadata": {
    "id": "PXxA__NS-2ws"
   },
   "source": [
    "### Example 1"
   ]
  },
  {
   "cell_type": "code",
   "execution_count": null,
   "metadata": {
    "colab": {
     "base_uri": "https://localhost:8080/"
    },
    "id": "yXlm4uaW-2Es",
    "outputId": "a945ac32-b6e1-46df-a470-81438594b858"
   },
   "outputs": [
    {
     "name": "stdout",
     "output_type": "stream",
     "text": [
      "A =\n",
      " [[ 2  3  1]\n",
      " [ 4  7  5]\n",
      " [ 6 18 10]]\n",
      "\n",
      "b = [1 3 6]\n",
      "\n",
      "Solution x = [0.2 0.1 0.3]\n",
      "\n"
     ]
    }
   ],
   "source": [
    "A1 = np.array([[2, 3, 1],\n",
    "               [4, 7, 5],\n",
    "               [6, 18, 10]])\n",
    "b1 = np.array([1, 3, 6])\n",
    "x1 = gaussian_elimination_partial_pivoting(A1, b1)\n",
    "\n",
    "print(\"A =\\n\", A1)\n",
    "print(\"\\nb =\", b1)\n",
    "print(\"\\nSolution x =\", x1)\n",
    "print()\n"
   ]
  },
  {
   "cell_type": "markdown",
   "metadata": {
    "id": "b96iIMOa-6Bt"
   },
   "source": [
    "### Example 2"
   ]
  },
  {
   "cell_type": "code",
   "execution_count": null,
   "metadata": {
    "colab": {
     "base_uri": "https://localhost:8080/"
    },
    "id": "zM3QwMQm-7_H",
    "outputId": "b1942ad1-f49c-41f6-a9d5-aac7a36f62d4"
   },
   "outputs": [
    {
     "name": "stdout",
     "output_type": "stream",
     "text": [
      "A: [[10  2 -1]\n",
      " [-3 -6  2]\n",
      " [ 1  1  5]]\n",
      "\n",
      "B: [ 27.  -61.5 -21.5]\n",
      "\n",
      "Solution: [ 0.5  8.  -6. ]\n"
     ]
    }
   ],
   "source": [
    "A2 = np.array([[10, 2, -1],\n",
    "               [-3, -6, 2],\n",
    "               [1, 1, 5]])\n",
    "b2 = np.array([27, -61.5, -21.5])\n",
    "x2 = gaussian_elimination_partial_pivoting(A2, b2)\n",
    "print(\"A:\", A2)\n",
    "print(\"\\nB:\", b2)\n",
    "print(\"\\nSolution:\", x2)\n"
   ]
  },
  {
   "cell_type": "markdown",
   "metadata": {
    "id": "p6mLzHpW-8Vb"
   },
   "source": [
    "### Example 3"
   ]
  },
  {
   "cell_type": "code",
   "execution_count": null,
   "metadata": {
    "colab": {
     "base_uri": "https://localhost:8080/"
    },
    "id": "i3yBp9HJ--D_",
    "outputId": "19a92311-56ba-4fcf-fd48-e97c189d21b0"
   },
   "outputs": [
    {
     "name": "stdout",
     "output_type": "stream",
     "text": [
      "A: [[1 1 1]\n",
      " [0 2 5]\n",
      " [0 0 3]]\n",
      "\n",
      "B: [ 6 -4  3]\n",
      "\n",
      "Solution: [ 9.5 -4.5  1. ]\n"
     ]
    }
   ],
   "source": [
    "A3 = np.array([[1, 1, 1],\n",
    "               [0, 2, 5],\n",
    "               [0, 0, 3]])\n",
    "b3 = np.array([6, -4, 3])\n",
    "x3 = gaussian_elimination_partial_pivoting(A3, b3)\n",
    "print(\"A:\", A3)\n",
    "print(\"\\nB:\", b3)\n",
    "print(\"\\nSolution:\", x3)\n"
   ]
  },
  {
   "cell_type": "markdown",
   "metadata": {
    "id": "S-uXslEc5nJn"
   },
   "source": [
    "## Gaussian Elimination with Complete Pivoting"
   ]
  },
  {
   "cell_type": "code",
   "execution_count": null,
   "metadata": {
    "id": "PWg-nT8F5oyR"
   },
   "outputs": [],
   "source": [
    "\n",
    "# Gaussian Elimination with Complete Pivoting\n",
    "\n",
    "import numpy as np\n",
    "\n",
    "def gaussian_elimination_complete_pivoting(A, b):\n",
    "    n = len(b)\n",
    "    A = A.astype(float)\n",
    "    b = b.astype(float)\n",
    "    P = np.arange(n)\n",
    "\n",
    "    for k in range(n - 1):\n",
    "        # Complete Pivoting\n",
    "        sub_matrix = np.abs(A[k:, k:])\n",
    "        i_max, j_max = np.unravel_index(np.argmax(sub_matrix, axis=None), sub_matrix.shape)\n",
    "        i_max += k\n",
    "        j_max += k\n",
    "\n",
    "        if i_max != k:\n",
    "            A[[k, i_max]] = A[[i_max, k]]\n",
    "            b[[k, i_max]] = b[[i_max, k]]\n",
    "        if j_max != k:\n",
    "            A[:, [k, j_max]] = A[:, [j_max, k]]\n",
    "            P[[k, j_max]] = P[[j_max, k]]\n",
    "\n",
    "        for i in range(k + 1, n):\n",
    "            factor = A[i][k] / A[k][k]\n",
    "            A[i, k:] -= factor * A[k, k:]\n",
    "            b[i] -= factor * b[k]\n",
    "\n",
    "    # Back Substitution\n",
    "    x = np.zeros(n)\n",
    "    for i in range(n - 1, -1, -1):\n",
    "        x[i] = (b[i] - np.dot(A[i, i+1:], x[i+1:])) / A[i, i]\n",
    "\n",
    "    # Reorder x according to original column order\n",
    "    x_ordered = np.zeros(n)\n",
    "    for i in range(n):\n",
    "        x_ordered[P[i]] = x[i]\n",
    "    return x_ordered\n"
   ]
  },
  {
   "cell_type": "markdown",
   "metadata": {
    "id": "jN14uv77_5IC"
   },
   "source": [
    "### Example 1"
   ]
  },
  {
   "cell_type": "code",
   "execution_count": null,
   "metadata": {
    "colab": {
     "base_uri": "https://localhost:8080/"
    },
    "id": "_8eaLa4b_wf1",
    "outputId": "04fea551-78db-40b5-f46c-f28a3f409424"
   },
   "outputs": [
    {
     "name": "stdout",
     "output_type": "stream",
     "text": [
      "A: [[ 2  3  1]\n",
      " [ 4  7  5]\n",
      " [ 6 18 10]]\n",
      "\n",
      "B: [1 3 6]\n",
      "\n",
      "Solution: [0.2 0.1 0.3]\n"
     ]
    }
   ],
   "source": [
    "A1 = np.array([[2, 3, 1],\n",
    "               [4, 7, 5],\n",
    "               [6, 18, 10]])\n",
    "b1 = np.array([1, 3, 6])\n",
    "x1 = gaussian_elimination_complete_pivoting(A1, b1)\n",
    "print(\"A:\", A1)\n",
    "print(\"\\nB:\", b1)\n",
    "print(\"\\nSolution:\", x1)\n"
   ]
  },
  {
   "cell_type": "markdown",
   "metadata": {
    "id": "8zaJPnwI_7Sw"
   },
   "source": [
    "### Example 2"
   ]
  },
  {
   "cell_type": "code",
   "execution_count": null,
   "metadata": {
    "colab": {
     "base_uri": "https://localhost:8080/"
    },
    "id": "UCUPeVYZ_yLD",
    "outputId": "96695341-28cb-4334-e33f-93484762de4a"
   },
   "outputs": [
    {
     "name": "stdout",
     "output_type": "stream",
     "text": [
      "A: [[10  2 -1]\n",
      " [-3 -6  2]\n",
      " [ 1  1  5]]\n",
      "\n",
      "B: [ 27.  -61.5 -21.5]\n",
      "\n",
      "Solution: [ 0.5  8.  -6. ]\n"
     ]
    }
   ],
   "source": [
    "A2 = np.array([[10, 2, -1],\n",
    "               [-3, -6, 2],\n",
    "               [1, 1, 5]])\n",
    "b2 = np.array([27, -61.5, -21.5])\n",
    "x2 = gaussian_elimination_complete_pivoting(A2, b2)\n",
    "print(\"A:\", A2)\n",
    "print(\"\\nB:\", b2)\n",
    "print(\"\\nSolution:\", x2)\n"
   ]
  },
  {
   "cell_type": "markdown",
   "metadata": {
    "id": "ci6fu8evAAtr"
   },
   "source": [
    "### Example 3"
   ]
  },
  {
   "cell_type": "code",
   "execution_count": null,
   "metadata": {
    "colab": {
     "base_uri": "https://localhost:8080/"
    },
    "id": "RObViJnS_znw",
    "outputId": "2ce88336-1f90-4df6-d55f-7be8159f5639"
   },
   "outputs": [
    {
     "name": "stdout",
     "output_type": "stream",
     "text": [
      "A: [[1 1 1]\n",
      " [0 2 5]\n",
      " [0 0 3]]\n",
      "\n",
      "B: [ 6 -4  3]\n",
      "\n",
      "Solution: [ 9.5 -4.5  1. ]\n"
     ]
    }
   ],
   "source": [
    "A3 = np.array([[1, 1, 1],\n",
    "               [0, 2, 5],\n",
    "               [0, 0, 3]])\n",
    "b3 = np.array([6, -4, 3])\n",
    "x3 = gaussian_elimination_complete_pivoting(A3, b3)\n",
    "print(\"A:\", A3)\n",
    "print(\"\\nB:\", b3)\n",
    "print(\"\\nSolution:\", x3)\n"
   ]
  }
 ],
 "metadata": {
  "colab": {
   "provenance": [],
   "toc_visible": true
  },
  "kernelspec": {
   "display_name": "Python 3 (ipykernel)",
   "language": "python",
   "name": "python3"
  },
  "language_info": {
   "codemirror_mode": {
    "name": "ipython",
    "version": 3
   },
   "file_extension": ".py",
   "mimetype": "text/x-python",
   "name": "python",
   "nbconvert_exporter": "python",
   "pygments_lexer": "ipython3",
   "version": "3.12.3"
  }
 },
 "nbformat": 4,
 "nbformat_minor": 4
}
